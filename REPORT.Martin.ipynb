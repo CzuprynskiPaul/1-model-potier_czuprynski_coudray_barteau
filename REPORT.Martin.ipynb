{
 "cells": [
  {
   "cell_type": "code",
   "execution_count": 2,
   "id": "3f0dbd53-4ede-479f-937a-3f5047e0e9a9",
   "metadata": {
    "tags": []
   },
   "outputs": [],
   "source": [
    "import numpy as np\n",
    "import pandas as pd\n",
    "import matplotlib.pyplot as plt\n",
    "import dm4bem"
   ]
  },
  {
   "cell_type": "markdown",
   "id": "c29b15ff-4bcf-4a9d-99a0-725b130004b6",
   "metadata": {},
   "source": [
    "### Introduction\n",
    "\n",
    "In this first part we will define our working environment. The plan of our house can be found below. The objective of this study case is the nalysis of a cubic building with 5 identical walls & a transparent wall (glass window), air infiltration, and HVAC system controlling the indoor air temperature.\n",
    "\n",
    "### Design model\n",
    "\n",
    "The room that we will study is presented in the figure below. Two rooms are separated by a small wall without insulation. The total area of the model is about 9 meters square and the ceiling is 3 meters high. The rooms have each 3 exterior walls and one interior wall. We will consider the house as insulated from the outside .\n",
    "The interior walls are made of concrete. The room also has a 1 m² window, a 2 m² door and a HVAC device.\n",
    "\n",
    "\n",
    "\n",
    "<center><img src=\"https://hub.gke2.mybinder.org/user/cghiaus-dm4bem-v9wqwu31/files/Adobe%20Scan%2024%20avr.%202023%20(1)%20(1).pdf?_xsrf=2%7C8d3810e3%7C68e4a5cde0ead2325dbafcff04581392%7C1682336278\"/></center>\n",
    "\n",
    "> Figure 1. Plan of the building\n",
    "\n"
   ]
  },
  {
   "cell_type": "markdown",
   "id": "2675e180-3569-45f4-852d-a8880a54bfc6",
   "metadata": {},
   "source": [
    "We will now define boundary conditions wich are important to solve our case.\n",
    "\n",
    "\n",
    "### Hypothesis\n",
    "\n",
    "Boundary Conditions:\n",
    "\n",
    "- Temperature of the exterior air = 0 °C\n",
    "- Setpoint temperature of the interior air = 18 °C\n",
    "- Unique temperature on each wall\n",
    "- Unidirectionnal heat transfer"
   ]
  },
  {
   "cell_type": "markdown",
   "id": "7cbda1be-4fbb-4ddd-8643-e7cb3f5adb31",
   "metadata": {},
   "source": [
    "### Dimension of windows, doors, and walls."
   ]
  },
  {
   "cell_type": "code",
   "execution_count": 3,
   "id": "6753d804-8cf2-4f4d-8a29-b42c2dc47b5e",
   "metadata": {
    "tags": []
   },
   "outputs": [],
   "source": [
    "l = 3               # m length of the cubic room\n",
    "Sg = l**2           # m² surface of the glass wall\n",
    "Sc = Si = 5 * Sg    # m² surface of concrete & insulation of the 5 walls\n",
    "Sc1=2*Sg\n",
    "Sc2=3*Sg"
   ]
  },
  {
   "cell_type": "markdown",
   "id": "3f760992-058d-4b83-b9c3-0370c4bca189",
   "metadata": {},
   "source": [
    "Thermo-physical properties\n",
    "The thermophysical properties of the air (in SI units) are:"
   ]
  },
  {
   "cell_type": "code",
   "execution_count": 7,
   "id": "470122da-baa0-4d40-ba27-e6528c4cf7ed",
   "metadata": {
    "tags": []
   },
   "outputs": [
    {
     "data": {
      "text/html": [
       "<div>\n",
       "<style scoped>\n",
       "    .dataframe tbody tr th:only-of-type {\n",
       "        vertical-align: middle;\n",
       "    }\n",
       "\n",
       "    .dataframe tbody tr th {\n",
       "        vertical-align: top;\n",
       "    }\n",
       "\n",
       "    .dataframe thead th {\n",
       "        text-align: right;\n",
       "    }\n",
       "</style>\n",
       "<table border=\"1\" class=\"dataframe\">\n",
       "  <thead>\n",
       "    <tr style=\"text-align: right;\">\n",
       "      <th></th>\n",
       "      <th>Density</th>\n",
       "      <th>Specific heat in</th>\n",
       "      <th>Specific heat out</th>\n",
       "    </tr>\n",
       "  </thead>\n",
       "  <tbody>\n",
       "    <tr>\n",
       "      <th>Air</th>\n",
       "      <td>1.2</td>\n",
       "      <td>1000</td>\n",
       "      <td>25</td>\n",
       "    </tr>\n",
       "  </tbody>\n",
       "</table>\n",
       "</div>"
      ],
      "text/plain": [
       "     Density  Specific heat in  Specific heat out\n",
       "Air      1.2              1000                 25"
      ]
     },
     "execution_count": 7,
     "metadata": {},
     "output_type": "execute_result"
    }
   ],
   "source": [
    "air = {'Density': 1.2,                      # kg/m³\n",
    "       'Specific heat in': 1000,\n",
    "        'Specific heat out' : 25}               # J/(kg·K)\n",
    "# pd.DataFrame.from_dict(air, orient='index', columns=['air'])\n",
    "pd.DataFrame(air, index=['Air'])"
   ]
  },
  {
   "cell_type": "markdown",
   "id": "da21b98d-deaf-4420-9f3a-01c4997610a1",
   "metadata": {
    "tags": []
   },
   "source": [
    "We use concrete, glass and insulation (glass wool) as materials. We take our door with oak wood. "
   ]
  },
  {
   "cell_type": "code",
   "execution_count": 5,
   "id": "ae6f7bc8-a950-4f6a-8659-6be6a5f5f524",
   "metadata": {
    "tags": []
   },
   "outputs": [
    {
     "data": {
      "text/html": [
       "<div>\n",
       "<style scoped>\n",
       "    .dataframe tbody tr th:only-of-type {\n",
       "        vertical-align: middle;\n",
       "    }\n",
       "\n",
       "    .dataframe tbody tr th {\n",
       "        vertical-align: top;\n",
       "    }\n",
       "\n",
       "    .dataframe thead th {\n",
       "        text-align: right;\n",
       "    }\n",
       "</style>\n",
       "<table border=\"1\" class=\"dataframe\">\n",
       "  <thead>\n",
       "    <tr style=\"text-align: right;\">\n",
       "      <th></th>\n",
       "      <th>Conductivity</th>\n",
       "      <th>Density</th>\n",
       "      <th>Specific heat</th>\n",
       "      <th>Width</th>\n",
       "      <th>Surface</th>\n",
       "    </tr>\n",
       "  </thead>\n",
       "  <tbody>\n",
       "    <tr>\n",
       "      <th>Layer_out</th>\n",
       "      <td>0.046</td>\n",
       "      <td>25.0</td>\n",
       "      <td>1030</td>\n",
       "      <td>0.08</td>\n",
       "      <td>45</td>\n",
       "    </tr>\n",
       "    <tr>\n",
       "      <th>Layer_in</th>\n",
       "      <td>1.400</td>\n",
       "      <td>2400.0</td>\n",
       "      <td>880</td>\n",
       "      <td>0.20</td>\n",
       "      <td>60</td>\n",
       "    </tr>\n",
       "    <tr>\n",
       "      <th>Glass</th>\n",
       "      <td>1.400</td>\n",
       "      <td>2500.0</td>\n",
       "      <td>1210</td>\n",
       "      <td>0.04</td>\n",
       "      <td>40</td>\n",
       "    </tr>\n",
       "    <tr>\n",
       "      <th>Door</th>\n",
       "      <td>0.150</td>\n",
       "      <td>800.0</td>\n",
       "      <td>2000</td>\n",
       "      <td>0.10</td>\n",
       "      <td>4</td>\n",
       "    </tr>\n",
       "  </tbody>\n",
       "</table>\n",
       "</div>"
      ],
      "text/plain": [
       "           Conductivity  Density  Specific heat  Width  Surface\n",
       "Layer_out         0.046     25.0           1030   0.08       45\n",
       "Layer_in          1.400   2400.0            880   0.20       60\n",
       "Glass             1.400   2500.0           1210   0.04       40\n",
       "Door              0.150    800.0           2000   0.10        4"
      ]
     },
     "execution_count": 5,
     "metadata": {},
     "output_type": "execute_result"
    }
   ],
   "source": [
    "BETON = {'Conductivity': 1.400,\n",
    "            'Density': 2400.0,\n",
    "            'Specific heat': 880,\n",
    "            'Width': 0.2,\n",
    "            'Surface': 60}\n",
    "\n",
    "ISOLANT = {'Conductivity': 0.046,\n",
    "              'Density': 25.0,\n",
    "              'Specific heat': 1030,\n",
    "              'Width': 0.08,\n",
    "              'Surface':45}\n",
    "\n",
    "VERRE = {'Conductivity': 1.4,\n",
    "         'Density': 2500,\n",
    "         'Specific heat': 1210,\n",
    "         'Width': 0.04,\n",
    "         'Surface': 40}\n",
    "\n",
    "PORTE = {'Conductivity': 0.15,\n",
    "         'Density': 800,\n",
    "         'Specific heat': 2000,\n",
    "         'Width': 0.1,\n",
    "         'Surface': 4}\n",
    "\n",
    "wall = pd.DataFrame.from_dict({'Layer_out': ISOLANT,\n",
    "                               'Layer_in': BETON,\n",
    "                               'Glass': VERRE,\n",
    "                               'Door': PORTE},\n",
    "                              orient='index')\n",
    "wall"
   ]
  },
  {
   "cell_type": "code",
   "execution_count": 10,
   "id": "32e21762-1149-4aa6-bbee-194aa041271e",
   "metadata": {
    "tags": []
   },
   "outputs": [],
   "source": [
    "import numpy as np\n",
    "A= np.zeros((24,17))\n",
    "A[0, 0] = 1\n",
    "A[1, 1] = 1\n",
    "A[1, 0] = -1\n",
    "A[2, 2] = 1\n",
    "A[2, 1] = -1\n",
    "A[3, 3] = 1\n",
    "A[3, 2] = -1\n",
    "A[4, 4] = 1\n",
    "A[4, 3] = -1\n",
    "A[6, 6] = 1\n",
    "A[6, 4] = -1\n",
    "A[5, 5] = 1\n",
    "A[5, 4] = -1\n",
    "A[8, 7] = 1\n",
    "A[9, 5] = 1\n",
    "A[9, 7] = -1\n",
    "A[7, 6] = 1\n",
    "A[7, 5] = -1\n",
    "A[10, 6] = 1\n",
    "A[11, 6] = 1\n",
    "A[12, 6] = 1\n",
    "A[12, 8] = -1\n",
    "A[13, 8] = 1\n",
    "A[13, 9] = -1\n",
    "A[14, 16] = 1\n",
    "A[14, 10] = -1\n",
    "A[15, 10] = 1\n",
    "A[15, 11] = -1\n",
    "A[16, 11] = 1\n",
    "A[16, 12] = -1\n",
    "A[17, 12] = 1\n",
    "A[17, 13] = -1\n",
    "A[18, 13] = 1\n",
    "A[19, 15] = 1\n",
    "A[19, 14] = -1\n",
    "A[20, 14] = 1\n",
    "A[21, 9] = 1\n",
    "A[23, 9] = 1\n",
    "A[23, 16] = -1\n",
    "A[22, 9] = 1\n",
    "A[22, 15] = -1\n",
    "\n",
    "B=np.zeros(24)\n",
    "B[0]=1\n",
    "B[8]=1\n",
    "B[10]=1\n",
    "B[11]=1\n",
    "B[18]=1\n",
    "B[20]=1\n",
    "B[21]=1\n",
    "\n",
    "G=np.zeros((24,24))\n",
    "G[0,0]=air['Specific heat in']*Sc1\n",
    "G[1,1]=BETON['Width']/(BETON['Conductivity'])*Sc1\n",
    "G[2,2]=BETON['Width']/(BETON['Conductivity'])*Sc1\n",
    "G[3,3]=ISOLANT['Width']/(ISOLANT['Conductivity'])*Sc1\n",
    "G[4,4]=ISOLANT['Width']/(ISOLANT['Conductivity'])*Sc1\n",
    "G[5,5]=air['Specific heat out']*Sc1\n",
    "G[6,6]=air['Specific heat out']*Sc1\n",
    "G[7,7]=air['Specific heat out']*Sg\n",
    "G[8,8]=air['Specific heat in']*Sg\n",
    "G[9,9]=VERRE['Width']/(VERRE['Conductivity'])*Sg\n",
    "G[10,10]=air['Specific heat in']*Sc1\n",
    "G[11,11]=air['Specific heat out']*Sg\n",
    "G[12,12]=BETON['Width']/(BETON['Conductivity'])*Sg\n",
    "G[13,13]=BETON['Width']/(BETON['Conductivity'])*Sg\n",
    "G[14,14]=ISOLANT['Width']/(ISOLANT['Conductivity'])*Sc2\n",
    "G[15,15]=ISOLANT['Width']/(ISOLANT['Conductivity'])*Sc2\n",
    "G[16,16]=BETON['Width']/(BETON['Conductivity'])*Sc2\n",
    "G[17,17]=BETON['Width']/(BETON['Conductivity'])*Sc2\n",
    "G[18,18]=air['Specific heat out']*Sc2\n",
    "G[19,19]=PORTE['Width']/(PORTE['Conductivity'])*PORTE['Surface']\n",
    "G[20,20]=air['Specific heat in']*Sc2\n",
    "G[21,21]=air['Specific heat out']*Sc2\n",
    "G[22,22]=air['Specific heat out']*Sc2\n",
    "G[23,23]=air['Specific heat out']*Sc2\n",
    "\n",
    "C=np.zeros((17,17))\n",
    "C[1,1]=BETON['Density']*BETON['Width']*BETON['Specific heat']*Sc1\n",
    "C[1,1]=ISOLANT['Density']*ISOLANT['Width']*ISOLANT['Specific heat']*Sc1\n",
    "C[1,1]=BETON['Density']*BETON['Width']*BETON['Specific heat']*Sg\n",
    "C[1,1]=BETON['Density']*BETON['Width']*BETON['Specific heat']*Sc2\n",
    "C[1,1]=ISOLANT['Density']*ISOLANT['Width']*ISOLANT['Specific heat']*Sc2"
   ]
  },
  {
   "cell_type": "code",
   "execution_count": null,
   "id": "b575ec24-6345-4aec-99a8-fbb0fa13d0d1",
   "metadata": {},
   "outputs": [],
   "source": []
  },
  {
   "cell_type": "code",
   "execution_count": null,
   "id": "37b5db6d-ca3e-4a27-a782-0bbbd3fc2826",
   "metadata": {},
   "outputs": [],
   "source": []
  }
 ],
 "metadata": {
  "kernelspec": {
   "display_name": "Python 3 (ipykernel)",
   "language": "python",
   "name": "python3"
  },
  "language_info": {
   "codemirror_mode": {
    "name": "ipython",
    "version": 3
   },
   "file_extension": ".py",
   "mimetype": "text/x-python",
   "name": "python",
   "nbconvert_exporter": "python",
   "pygments_lexer": "ipython3",
   "version": "3.8.8"
  }
 },
 "nbformat": 4,
 "nbformat_minor": 5
}
